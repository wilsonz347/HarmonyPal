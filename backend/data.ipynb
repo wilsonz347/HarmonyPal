{
 "cells": [
  {
   "cell_type": "code",
   "id": "initial_id",
   "metadata": {
    "collapsed": true,
    "ExecuteTime": {
     "end_time": "2024-12-18T04:46:17.276543Z",
     "start_time": "2024-12-18T04:46:16.376360Z"
    }
   },
   "source": "import pandas as pd",
   "outputs": [],
   "execution_count": 1
  },
  {
   "metadata": {
    "ExecuteTime": {
     "end_time": "2024-12-18T04:46:18.961294Z",
     "start_time": "2024-12-18T04:46:17.284466Z"
    }
   },
   "cell_type": "code",
   "source": "df = pd.read_parquet(\"hf://datasets/heliosbrahma/mental_health_chatbot_dataset/data/train-00000-of-00001-01391a60ef5c00d9.parquet\")",
   "id": "d9d724ba6c4088f3",
   "outputs": [],
   "execution_count": 2
  },
  {
   "metadata": {
    "ExecuteTime": {
     "end_time": "2024-12-18T04:46:19.517904Z",
     "start_time": "2024-12-18T04:46:19.487857Z"
    }
   },
   "cell_type": "code",
   "source": "df.head()",
   "id": "d36d136450b266eb",
   "outputs": [
    {
     "data": {
      "text/plain": [
       "                                                text\n",
       "0  <HUMAN>: What is a panic attack?\\n<ASSISTANT>:...\n",
       "1  <HUMAN>: What are symptoms of panic attack vs....\n",
       "2  <HUMAN>: What are the types of Mental Illness?...\n",
       "3  <HUMAN>: What does mental-illness mean?\\n<ASSI...\n",
       "4  <HUMAN>: How can you treat mental illness?\\n<A..."
      ],
      "text/html": [
       "<div>\n",
       "<style scoped>\n",
       "    .dataframe tbody tr th:only-of-type {\n",
       "        vertical-align: middle;\n",
       "    }\n",
       "\n",
       "    .dataframe tbody tr th {\n",
       "        vertical-align: top;\n",
       "    }\n",
       "\n",
       "    .dataframe thead th {\n",
       "        text-align: right;\n",
       "    }\n",
       "</style>\n",
       "<table border=\"1\" class=\"dataframe\">\n",
       "  <thead>\n",
       "    <tr style=\"text-align: right;\">\n",
       "      <th></th>\n",
       "      <th>text</th>\n",
       "    </tr>\n",
       "  </thead>\n",
       "  <tbody>\n",
       "    <tr>\n",
       "      <th>0</th>\n",
       "      <td>&lt;HUMAN&gt;: What is a panic attack?\\n&lt;ASSISTANT&gt;:...</td>\n",
       "    </tr>\n",
       "    <tr>\n",
       "      <th>1</th>\n",
       "      <td>&lt;HUMAN&gt;: What are symptoms of panic attack vs....</td>\n",
       "    </tr>\n",
       "    <tr>\n",
       "      <th>2</th>\n",
       "      <td>&lt;HUMAN&gt;: What are the types of Mental Illness?...</td>\n",
       "    </tr>\n",
       "    <tr>\n",
       "      <th>3</th>\n",
       "      <td>&lt;HUMAN&gt;: What does mental-illness mean?\\n&lt;ASSI...</td>\n",
       "    </tr>\n",
       "    <tr>\n",
       "      <th>4</th>\n",
       "      <td>&lt;HUMAN&gt;: How can you treat mental illness?\\n&lt;A...</td>\n",
       "    </tr>\n",
       "  </tbody>\n",
       "</table>\n",
       "</div>"
      ]
     },
     "execution_count": 3,
     "metadata": {},
     "output_type": "execute_result"
    }
   ],
   "execution_count": 3
  },
  {
   "metadata": {
    "ExecuteTime": {
     "end_time": "2024-12-18T04:46:19.623495Z",
     "start_time": "2024-12-18T04:46:19.606050Z"
    }
   },
   "cell_type": "code",
   "source": [
    "df[['question', 'answer']] = df['text'].str.split('<ASSISTANT>:', n=1, expand=True)\n",
    "\n",
    "df['question'] = df['question'].str.replace('<HUMAN>:', '').str.strip()\n",
    "df['answer'] = df['answer'].str.strip()\n",
    "\n",
    "df.head()"
   ],
   "id": "4d860d4c37d13896",
   "outputs": [
    {
     "data": {
      "text/plain": [
       "                                                text  \\\n",
       "0  <HUMAN>: What is a panic attack?\\n<ASSISTANT>:...   \n",
       "1  <HUMAN>: What are symptoms of panic attack vs....   \n",
       "2  <HUMAN>: What are the types of Mental Illness?...   \n",
       "3  <HUMAN>: What does mental-illness mean?\\n<ASSI...   \n",
       "4  <HUMAN>: How can you treat mental illness?\\n<A...   \n",
       "\n",
       "                                            question  \\\n",
       "0                            What is a panic attack?   \n",
       "1  What are symptoms of panic attack vs. anxiety ...   \n",
       "2              What are the types of Mental Illness?   \n",
       "3                     What does mental-illness mean?   \n",
       "4                  How can you treat mental illness?   \n",
       "\n",
       "                                              answer  \n",
       "0  Panic attacks come on suddenly and involve int...  \n",
       "1  Panic attacks and anxiety attacks can share so...  \n",
       "2  There are many different conditions that are r...  \n",
       "3  Mental illness is a group of biological brain ...  \n",
       "4  The treatment of mental illness is a multi-fac...  "
      ],
      "text/html": [
       "<div>\n",
       "<style scoped>\n",
       "    .dataframe tbody tr th:only-of-type {\n",
       "        vertical-align: middle;\n",
       "    }\n",
       "\n",
       "    .dataframe tbody tr th {\n",
       "        vertical-align: top;\n",
       "    }\n",
       "\n",
       "    .dataframe thead th {\n",
       "        text-align: right;\n",
       "    }\n",
       "</style>\n",
       "<table border=\"1\" class=\"dataframe\">\n",
       "  <thead>\n",
       "    <tr style=\"text-align: right;\">\n",
       "      <th></th>\n",
       "      <th>text</th>\n",
       "      <th>question</th>\n",
       "      <th>answer</th>\n",
       "    </tr>\n",
       "  </thead>\n",
       "  <tbody>\n",
       "    <tr>\n",
       "      <th>0</th>\n",
       "      <td>&lt;HUMAN&gt;: What is a panic attack?\\n&lt;ASSISTANT&gt;:...</td>\n",
       "      <td>What is a panic attack?</td>\n",
       "      <td>Panic attacks come on suddenly and involve int...</td>\n",
       "    </tr>\n",
       "    <tr>\n",
       "      <th>1</th>\n",
       "      <td>&lt;HUMAN&gt;: What are symptoms of panic attack vs....</td>\n",
       "      <td>What are symptoms of panic attack vs. anxiety ...</td>\n",
       "      <td>Panic attacks and anxiety attacks can share so...</td>\n",
       "    </tr>\n",
       "    <tr>\n",
       "      <th>2</th>\n",
       "      <td>&lt;HUMAN&gt;: What are the types of Mental Illness?...</td>\n",
       "      <td>What are the types of Mental Illness?</td>\n",
       "      <td>There are many different conditions that are r...</td>\n",
       "    </tr>\n",
       "    <tr>\n",
       "      <th>3</th>\n",
       "      <td>&lt;HUMAN&gt;: What does mental-illness mean?\\n&lt;ASSI...</td>\n",
       "      <td>What does mental-illness mean?</td>\n",
       "      <td>Mental illness is a group of biological brain ...</td>\n",
       "    </tr>\n",
       "    <tr>\n",
       "      <th>4</th>\n",
       "      <td>&lt;HUMAN&gt;: How can you treat mental illness?\\n&lt;A...</td>\n",
       "      <td>How can you treat mental illness?</td>\n",
       "      <td>The treatment of mental illness is a multi-fac...</td>\n",
       "    </tr>\n",
       "  </tbody>\n",
       "</table>\n",
       "</div>"
      ]
     },
     "execution_count": 4,
     "metadata": {},
     "output_type": "execute_result"
    }
   ],
   "execution_count": 4
  },
  {
   "metadata": {
    "ExecuteTime": {
     "end_time": "2024-12-18T04:46:57.253263Z",
     "start_time": "2024-12-18T04:46:57.232525Z"
    }
   },
   "cell_type": "code",
   "source": "df.drop('text', axis=1, inplace=True)",
   "id": "bc3929ec99164c10",
   "outputs": [],
   "execution_count": 5
  },
  {
   "metadata": {
    "ExecuteTime": {
     "end_time": "2024-12-18T04:47:02.900429Z",
     "start_time": "2024-12-18T04:47:02.878359Z"
    }
   },
   "cell_type": "code",
   "source": "df.head()",
   "id": "876b5e9b21bd1de1",
   "outputs": [
    {
     "data": {
      "text/plain": [
       "                                            question  \\\n",
       "0                            What is a panic attack?   \n",
       "1  What are symptoms of panic attack vs. anxiety ...   \n",
       "2              What are the types of Mental Illness?   \n",
       "3                     What does mental-illness mean?   \n",
       "4                  How can you treat mental illness?   \n",
       "\n",
       "                                              answer  \n",
       "0  Panic attacks come on suddenly and involve int...  \n",
       "1  Panic attacks and anxiety attacks can share so...  \n",
       "2  There are many different conditions that are r...  \n",
       "3  Mental illness is a group of biological brain ...  \n",
       "4  The treatment of mental illness is a multi-fac...  "
      ],
      "text/html": [
       "<div>\n",
       "<style scoped>\n",
       "    .dataframe tbody tr th:only-of-type {\n",
       "        vertical-align: middle;\n",
       "    }\n",
       "\n",
       "    .dataframe tbody tr th {\n",
       "        vertical-align: top;\n",
       "    }\n",
       "\n",
       "    .dataframe thead th {\n",
       "        text-align: right;\n",
       "    }\n",
       "</style>\n",
       "<table border=\"1\" class=\"dataframe\">\n",
       "  <thead>\n",
       "    <tr style=\"text-align: right;\">\n",
       "      <th></th>\n",
       "      <th>question</th>\n",
       "      <th>answer</th>\n",
       "    </tr>\n",
       "  </thead>\n",
       "  <tbody>\n",
       "    <tr>\n",
       "      <th>0</th>\n",
       "      <td>What is a panic attack?</td>\n",
       "      <td>Panic attacks come on suddenly and involve int...</td>\n",
       "    </tr>\n",
       "    <tr>\n",
       "      <th>1</th>\n",
       "      <td>What are symptoms of panic attack vs. anxiety ...</td>\n",
       "      <td>Panic attacks and anxiety attacks can share so...</td>\n",
       "    </tr>\n",
       "    <tr>\n",
       "      <th>2</th>\n",
       "      <td>What are the types of Mental Illness?</td>\n",
       "      <td>There are many different conditions that are r...</td>\n",
       "    </tr>\n",
       "    <tr>\n",
       "      <th>3</th>\n",
       "      <td>What does mental-illness mean?</td>\n",
       "      <td>Mental illness is a group of biological brain ...</td>\n",
       "    </tr>\n",
       "    <tr>\n",
       "      <th>4</th>\n",
       "      <td>How can you treat mental illness?</td>\n",
       "      <td>The treatment of mental illness is a multi-fac...</td>\n",
       "    </tr>\n",
       "  </tbody>\n",
       "</table>\n",
       "</div>"
      ]
     },
     "execution_count": 7,
     "metadata": {},
     "output_type": "execute_result"
    }
   ],
   "execution_count": 7
  },
  {
   "metadata": {},
   "cell_type": "code",
   "outputs": [],
   "execution_count": null,
   "source": "",
   "id": "9c9f296894a4d294"
  }
 ],
 "metadata": {
  "kernelspec": {
   "display_name": "Python 3",
   "language": "python",
   "name": "python3"
  },
  "language_info": {
   "codemirror_mode": {
    "name": "ipython",
    "version": 2
   },
   "file_extension": ".py",
   "mimetype": "text/x-python",
   "name": "python",
   "nbconvert_exporter": "python",
   "pygments_lexer": "ipython2",
   "version": "2.7.6"
  }
 },
 "nbformat": 4,
 "nbformat_minor": 5
}
