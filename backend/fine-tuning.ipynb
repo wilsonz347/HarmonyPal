{
 "cells": [
  {
   "cell_type": "code",
   "id": "initial_id",
   "metadata": {
    "collapsed": true,
    "ExecuteTime": {
     "end_time": "2025-01-01T21:41:01.519829Z",
     "start_time": "2025-01-01T21:40:33.700236Z"
    }
   },
   "source": [
    "from transformers import (\n",
    "    Trainer, TrainingArguments,\n",
    "    DataCollatorForLanguageModeling, GPT2Tokenizer, GPT2LMHeadModel,\n",
    ")\n",
    "from sklearn.model_selection import train_test_split\n",
    "import pandas as pd"
   ],
   "outputs": [
    {
     "name": "stdout",
     "output_type": "stream",
     "text": [
      "WARNING:tensorflow:From C:\\Users\\wilso\\AppData\\Local\\Programs\\Python\\Python312\\Lib\\site-packages\\tf_keras\\src\\losses.py:2976: The name tf.losses.sparse_softmax_cross_entropy is deprecated. Please use tf.compat.v1.losses.sparse_softmax_cross_entropy instead.\n",
      "\n"
     ]
    }
   ],
   "execution_count": 1
  },
  {
   "metadata": {
    "ExecuteTime": {
     "end_time": "2025-01-01T21:41:02.849418Z",
     "start_time": "2025-01-01T21:41:01.528214Z"
    }
   },
   "cell_type": "code",
   "source": [
    "model_name = \"gpt2\"\n",
    "gpt2_tokenizer = GPT2Tokenizer.from_pretrained(model_name)\n",
    "gpt2_model = GPT2LMHeadModel.from_pretrained(model_name)\n",
    "\n",
    "# Set the pad_token for the tokenizer\n",
    "gpt2_tokenizer.pad_token = gpt2_tokenizer.eos_token"
   ],
   "id": "99544ff4eb3f2b12",
   "outputs": [],
   "execution_count": 2
  },
  {
   "metadata": {
    "ExecuteTime": {
     "end_time": "2025-01-01T21:41:04.117244Z",
     "start_time": "2025-01-01T21:41:03.100493Z"
    }
   },
   "cell_type": "code",
   "source": "df = pd.read_parquet(\"hf://datasets/heliosbrahma/mental_health_chatbot_dataset/data/train-00000-of-00001-01391a60ef5c00d9.parquet\")",
   "id": "e7bba5d8136c4bda",
   "outputs": [],
   "execution_count": 3
  },
  {
   "metadata": {
    "ExecuteTime": {
     "end_time": "2025-01-01T21:41:04.192865Z",
     "start_time": "2025-01-01T21:41:04.175927Z"
    }
   },
   "cell_type": "code",
   "source": "df.head()",
   "id": "bf2d9ef54791bdb6",
   "outputs": [
    {
     "data": {
      "text/plain": [
       "                                                text\n",
       "0  <HUMAN>: What is a panic attack?\\n<ASSISTANT>:...\n",
       "1  <HUMAN>: What are symptoms of panic attack vs....\n",
       "2  <HUMAN>: What are the types of Mental Illness?...\n",
       "3  <HUMAN>: What does mental-illness mean?\\n<ASSI...\n",
       "4  <HUMAN>: How can you treat mental illness?\\n<A..."
      ],
      "text/html": [
       "<div>\n",
       "<style scoped>\n",
       "    .dataframe tbody tr th:only-of-type {\n",
       "        vertical-align: middle;\n",
       "    }\n",
       "\n",
       "    .dataframe tbody tr th {\n",
       "        vertical-align: top;\n",
       "    }\n",
       "\n",
       "    .dataframe thead th {\n",
       "        text-align: right;\n",
       "    }\n",
       "</style>\n",
       "<table border=\"1\" class=\"dataframe\">\n",
       "  <thead>\n",
       "    <tr style=\"text-align: right;\">\n",
       "      <th></th>\n",
       "      <th>text</th>\n",
       "    </tr>\n",
       "  </thead>\n",
       "  <tbody>\n",
       "    <tr>\n",
       "      <th>0</th>\n",
       "      <td>&lt;HUMAN&gt;: What is a panic attack?\\n&lt;ASSISTANT&gt;:...</td>\n",
       "    </tr>\n",
       "    <tr>\n",
       "      <th>1</th>\n",
       "      <td>&lt;HUMAN&gt;: What are symptoms of panic attack vs....</td>\n",
       "    </tr>\n",
       "    <tr>\n",
       "      <th>2</th>\n",
       "      <td>&lt;HUMAN&gt;: What are the types of Mental Illness?...</td>\n",
       "    </tr>\n",
       "    <tr>\n",
       "      <th>3</th>\n",
       "      <td>&lt;HUMAN&gt;: What does mental-illness mean?\\n&lt;ASSI...</td>\n",
       "    </tr>\n",
       "    <tr>\n",
       "      <th>4</th>\n",
       "      <td>&lt;HUMAN&gt;: How can you treat mental illness?\\n&lt;A...</td>\n",
       "    </tr>\n",
       "  </tbody>\n",
       "</table>\n",
       "</div>"
      ]
     },
     "execution_count": 4,
     "metadata": {},
     "output_type": "execute_result"
    }
   ],
   "execution_count": 4
  },
  {
   "metadata": {
    "ExecuteTime": {
     "end_time": "2025-01-01T21:41:04.269048Z",
     "start_time": "2025-01-01T21:41:04.245561Z"
    }
   },
   "cell_type": "code",
   "source": [
    "df[['question', 'answer']] = df['text'].str.split('<ASSISTANT>:', n=1, expand=True)\n",
    "\n",
    "df['question'] = df['question'].str.replace('<HUMAN>:', '').str.strip()\n",
    "df['answer'] = df['answer'].str.strip()\n",
    "\n",
    "df.drop('text', axis=1, inplace=True)\n",
    "\n",
    "df.head()"
   ],
   "id": "253b48665c40aebd",
   "outputs": [
    {
     "data": {
      "text/plain": [
       "                                            question  \\\n",
       "0                            What is a panic attack?   \n",
       "1  What are symptoms of panic attack vs. anxiety ...   \n",
       "2              What are the types of Mental Illness?   \n",
       "3                     What does mental-illness mean?   \n",
       "4                  How can you treat mental illness?   \n",
       "\n",
       "                                              answer  \n",
       "0  Panic attacks come on suddenly and involve int...  \n",
       "1  Panic attacks and anxiety attacks can share so...  \n",
       "2  There are many different conditions that are r...  \n",
       "3  Mental illness is a group of biological brain ...  \n",
       "4  The treatment of mental illness is a multi-fac...  "
      ],
      "text/html": [
       "<div>\n",
       "<style scoped>\n",
       "    .dataframe tbody tr th:only-of-type {\n",
       "        vertical-align: middle;\n",
       "    }\n",
       "\n",
       "    .dataframe tbody tr th {\n",
       "        vertical-align: top;\n",
       "    }\n",
       "\n",
       "    .dataframe thead th {\n",
       "        text-align: right;\n",
       "    }\n",
       "</style>\n",
       "<table border=\"1\" class=\"dataframe\">\n",
       "  <thead>\n",
       "    <tr style=\"text-align: right;\">\n",
       "      <th></th>\n",
       "      <th>question</th>\n",
       "      <th>answer</th>\n",
       "    </tr>\n",
       "  </thead>\n",
       "  <tbody>\n",
       "    <tr>\n",
       "      <th>0</th>\n",
       "      <td>What is a panic attack?</td>\n",
       "      <td>Panic attacks come on suddenly and involve int...</td>\n",
       "    </tr>\n",
       "    <tr>\n",
       "      <th>1</th>\n",
       "      <td>What are symptoms of panic attack vs. anxiety ...</td>\n",
       "      <td>Panic attacks and anxiety attacks can share so...</td>\n",
       "    </tr>\n",
       "    <tr>\n",
       "      <th>2</th>\n",
       "      <td>What are the types of Mental Illness?</td>\n",
       "      <td>There are many different conditions that are r...</td>\n",
       "    </tr>\n",
       "    <tr>\n",
       "      <th>3</th>\n",
       "      <td>What does mental-illness mean?</td>\n",
       "      <td>Mental illness is a group of biological brain ...</td>\n",
       "    </tr>\n",
       "    <tr>\n",
       "      <th>4</th>\n",
       "      <td>How can you treat mental illness?</td>\n",
       "      <td>The treatment of mental illness is a multi-fac...</td>\n",
       "    </tr>\n",
       "  </tbody>\n",
       "</table>\n",
       "</div>"
      ]
     },
     "execution_count": 5,
     "metadata": {},
     "output_type": "execute_result"
    }
   ],
   "execution_count": 5
  },
  {
   "metadata": {
    "ExecuteTime": {
     "end_time": "2025-01-01T21:41:04.370539Z",
     "start_time": "2025-01-01T21:41:04.337442Z"
    }
   },
   "cell_type": "code",
   "source": "train_df, val_df = train_test_split(df, test_size=0.2)",
   "id": "b229f5f582e1ce51",
   "outputs": [],
   "execution_count": 6
  },
  {
   "metadata": {
    "ExecuteTime": {
     "end_time": "2025-01-01T21:41:04.628552Z",
     "start_time": "2025-01-01T21:41:04.611506Z"
    }
   },
   "cell_type": "code",
   "source": [
    "text = 'checking tokenizer if it works'\n",
    "inputs = gpt2_tokenizer(text)\n",
    "inputs"
   ],
   "id": "c377778d5e4f91a1",
   "outputs": [
    {
     "data": {
      "text/plain": [
       "{'input_ids': [41004, 11241, 7509, 611, 340, 2499], 'attention_mask': [1, 1, 1, 1, 1, 1]}"
      ]
     },
     "execution_count": 7,
     "metadata": {},
     "output_type": "execute_result"
    }
   ],
   "execution_count": 7
  },
  {
   "metadata": {
    "ExecuteTime": {
     "end_time": "2025-01-01T21:41:04.721810Z",
     "start_time": "2025-01-01T21:41:04.715244Z"
    }
   },
   "cell_type": "code",
   "source": [
    "tokens = gpt2_tokenizer.convert_ids_to_tokens(inputs['input_ids'])\n",
    "tokens"
   ],
   "id": "c9f693a315238b39",
   "outputs": [
    {
     "data": {
      "text/plain": [
       "['checking', 'Ġtoken', 'izer', 'Ġif', 'Ġit', 'Ġworks']"
      ]
     },
     "execution_count": 8,
     "metadata": {},
     "output_type": "execute_result"
    }
   ],
   "execution_count": 8
  },
  {
   "metadata": {
    "ExecuteTime": {
     "end_time": "2025-01-01T21:41:04.827046Z",
     "start_time": "2025-01-01T21:41:04.819814Z"
    }
   },
   "cell_type": "code",
   "source": [
    "print(f\"Training Size: {train_df.shape}\")\n",
    "print(f\"Validation Size: {val_df.shape}\")"
   ],
   "id": "82f0fdaa8e79bdb",
   "outputs": [
    {
     "name": "stdout",
     "output_type": "stream",
     "text": [
      "Training Size: (137, 2)\n",
      "Validation Size: (35, 2)\n"
     ]
    }
   ],
   "execution_count": 9
  },
  {
   "metadata": {
    "ExecuteTime": {
     "end_time": "2025-01-01T21:41:04.892321Z",
     "start_time": "2025-01-01T21:41:04.885158Z"
    }
   },
   "cell_type": "code",
   "source": [
    "def preprocess_data(df, tokenizer):\n",
    "    # Combine question and answer into a single format and tokenize.\n",
    "    texts = [\n",
    "        f\"User: {row['question']}\\nAI: {row['answer']}\\n\"\n",
    "        for _, row in df.iterrows()\n",
    "    ]\n",
    "    return tokenizer(\n",
    "        texts, padding=True, truncation=True, max_length=1024, return_tensors=\"pt\"\n",
    "    )"
   ],
   "id": "8f3869923bf2ac0",
   "outputs": [],
   "execution_count": 10
  },
  {
   "metadata": {
    "ExecuteTime": {
     "end_time": "2025-01-01T21:41:05.954694Z",
     "start_time": "2025-01-01T21:41:04.926769Z"
    }
   },
   "cell_type": "code",
   "source": [
    "train_encodings = preprocess_data(train_df, gpt2_tokenizer)\n",
    "val_encodings = preprocess_data(val_df, gpt2_tokenizer)"
   ],
   "id": "d3f7f6e196f03217",
   "outputs": [],
   "execution_count": 11
  },
  {
   "metadata": {
    "ExecuteTime": {
     "end_time": "2025-01-01T21:41:06.025841Z",
     "start_time": "2025-01-01T21:41:06.008703Z"
    }
   },
   "cell_type": "code",
   "source": [
    "decoded_example = gpt2_tokenizer.decode(train_encodings['input_ids'][0], skip_special_tokens=True)\n",
    "print(decoded_example)"
   ],
   "id": "3d77ae286fa04b5a",
   "outputs": [
    {
     "name": "stdout",
     "output_type": "stream",
     "text": [
      "User: What Is Post-Traumatic Stress Disorder?\n",
      "AI: Post-Traumatic Stress Disorder (PTSD) is an anxiety disorder that can develop after exposure to a terrifying event or ordeal in which grave physical harm occurred or was threatened. After traumatic events, such as death, an earthquake, war, car accidents, floods or fires, it is not uncommon for people to experience feelings of heightened fear, worry, sadness or anger. If the emotions persist, however, or become severe, or the person gets triggered into reliving the event in their daily life, this can affect the person’s ability to function and may be a sign of PTSD.\n",
      "\n"
     ]
    }
   ],
   "execution_count": 12
  },
  {
   "metadata": {
    "ExecuteTime": {
     "end_time": "2025-01-01T21:41:06.075554Z",
     "start_time": "2025-01-01T21:41:06.068995Z"
    }
   },
   "cell_type": "code",
   "source": [
    "from torch.utils.data import Dataset\n",
    "\n",
    "class MentalHealthDataset(Dataset):\n",
    "    def __init__(self, encodings):\n",
    "        self.encodings = encodings\n",
    "\n",
    "    def __len__(self):\n",
    "        return len(self.encodings[\"input_ids\"])\n",
    "\n",
    "    def __getitem__(self, idx):\n",
    "        return {key: val[idx].clone().detach() for key, val in self.encodings.items()}\n",
    "\n",
    "train_dataset = MentalHealthDataset(train_encodings)\n",
    "val_dataset = MentalHealthDataset(val_encodings)"
   ],
   "id": "d5eeef0d747e675e",
   "outputs": [],
   "execution_count": 13
  },
  {
   "metadata": {
    "ExecuteTime": {
     "end_time": "2025-01-01T21:41:06.133027Z",
     "start_time": "2025-01-01T21:41:06.123746Z"
    }
   },
   "cell_type": "code",
   "source": [
    "# Set up dynamic paddings\n",
    "data_collator = DataCollatorForLanguageModeling(\n",
    "    tokenizer=gpt2_tokenizer, mlm=False\n",
    ")"
   ],
   "id": "263278f80343e545",
   "outputs": [],
   "execution_count": 14
  },
  {
   "metadata": {
    "ExecuteTime": {
     "end_time": "2025-01-01T21:41:06.231182Z",
     "start_time": "2025-01-01T21:41:06.172298Z"
    }
   },
   "cell_type": "code",
   "source": [
    "# Initialize training parameters\n",
    "training_args = TrainingArguments(\n",
    "    output_dir=\"./results\",\n",
    "    overwrite_output_dir=True,\n",
    "    num_train_epochs=3,\n",
    "    per_device_train_batch_size=8,\n",
    "    eval_strategy=\"epoch\",\n",
    "    save_strategy=\"epoch\",\n",
    "    save_total_limit=2,\n",
    "    logging_dir=\"./logs\",\n",
    "    learning_rate=3e-5,\n",
    "    warmup_ratio=0.05,\n",
    "    weight_decay=0.01,\n",
    "    report_to=\"none\",\n",
    "    load_best_model_at_end=True, \n",
    "    metric_for_best_model=\"loss\", \n",
    "    greater_is_better=False, \n",
    ")\n",
    "\n",
    "trainer = Trainer(\n",
    "    model=gpt2_model,\n",
    "    args=training_args,\n",
    "    train_dataset=train_dataset,\n",
    "    eval_dataset=val_dataset,\n",
    "    data_collator=data_collator,\n",
    ")"
   ],
   "id": "d9a660b730b99086",
   "outputs": [],
   "execution_count": 15
  },
  {
   "metadata": {
    "ExecuteTime": {
     "end_time": "2025-01-01T22:50:27.412940Z",
     "start_time": "2025-01-01T21:41:06.256870Z"
    }
   },
   "cell_type": "code",
   "source": [
    "# Train the model\n",
    "trainer.train()"
   ],
   "id": "8612bc8f436e546f",
   "outputs": [
    {
     "data": {
      "text/plain": [
       "<IPython.core.display.HTML object>"
      ],
      "text/html": [
       "\n",
       "    <div>\n",
       "      \n",
       "      <progress value='54' max='54' style='width:300px; height:20px; vertical-align: middle;'></progress>\n",
       "      [54/54 1:07:54, Epoch 3/3]\n",
       "    </div>\n",
       "    <table border=\"1\" class=\"dataframe\">\n",
       "  <thead>\n",
       " <tr style=\"text-align: left;\">\n",
       "      <th>Epoch</th>\n",
       "      <th>Training Loss</th>\n",
       "      <th>Validation Loss</th>\n",
       "    </tr>\n",
       "  </thead>\n",
       "  <tbody>\n",
       "    <tr>\n",
       "      <td>1</td>\n",
       "      <td>2.325000</td>\n",
       "      <td>2.294621</td>\n",
       "    </tr>\n",
       "    <tr>\n",
       "      <td>2</td>\n",
       "      <td>2.105400</td>\n",
       "      <td>2.212801</td>\n",
       "    </tr>\n",
       "    <tr>\n",
       "      <td>3</td>\n",
       "      <td>1.855600</td>\n",
       "      <td>2.198152</td>\n",
       "    </tr>\n",
       "  </tbody>\n",
       "</table><p>"
      ]
     },
     "metadata": {},
     "output_type": "display_data"
    },
    {
     "data": {
      "text/plain": [
       "TrainOutput(global_step=54, training_loss=2.3346034509164317, metrics={'train_runtime': 4160.7327, 'train_samples_per_second': 0.099, 'train_steps_per_second': 0.013, 'total_flos': 109488506112000.0, 'train_loss': 2.3346034509164317, 'epoch': 3.0})"
      ]
     },
     "execution_count": 16,
     "metadata": {},
     "output_type": "execute_result"
    }
   ],
   "execution_count": 16
  },
  {
   "metadata": {
    "ExecuteTime": {
     "end_time": "2025-01-01T22:50:43.654651Z",
     "start_time": "2025-01-01T22:50:42.631965Z"
    }
   },
   "cell_type": "code",
   "source": [
    "# Save the model\n",
    "trainer.save_model('./fine_tuned_model')"
   ],
   "id": "7b1368c5ca5fcb",
   "outputs": [],
   "execution_count": 17
  },
  {
   "metadata": {
    "ExecuteTime": {
     "end_time": "2025-01-01T22:51:16.236111Z",
     "start_time": "2025-01-01T22:50:44.817146Z"
    }
   },
   "cell_type": "code",
   "source": [
    "import math\n",
    "\n",
    "# Evaluate the model\n",
    "eval_results = trainer.evaluate()\n",
    "perplexity = math.exp(eval_results['eval_loss'])\n",
    "\n",
    "print(f\"Evaluation_Results: {eval_results}\")\n",
    "print(f\"Perplexity: {perplexity}\")"
   ],
   "id": "feb9eedb7e067236",
   "outputs": [
    {
     "data": {
      "text/plain": [
       "<IPython.core.display.HTML object>"
      ],
      "text/html": [
       "\n",
       "    <div>\n",
       "      \n",
       "      <progress value='5' max='5' style='width:300px; height:20px; vertical-align: middle;'></progress>\n",
       "      [5/5 00:22]\n",
       "    </div>\n",
       "    "
      ]
     },
     "metadata": {},
     "output_type": "display_data"
    },
    {
     "name": "stdout",
     "output_type": "stream",
     "text": [
      "Evaluation_Results: {'eval_loss': 2.1981518268585205, 'eval_runtime': 31.4019, 'eval_samples_per_second': 1.115, 'eval_steps_per_second': 0.159, 'epoch': 3.0}\n",
      "Perplexity: 9.008349115959394\n"
     ]
    }
   ],
   "execution_count": 18
  },
  {
   "metadata": {},
   "cell_type": "code",
   "outputs": [],
   "execution_count": null,
   "source": "",
   "id": "5cfbd874ebaf45f3"
  }
 ],
 "metadata": {
  "kernelspec": {
   "display_name": "Python 3",
   "language": "python",
   "name": "python3"
  },
  "language_info": {
   "codemirror_mode": {
    "name": "ipython",
    "version": 2
   },
   "file_extension": ".py",
   "mimetype": "text/x-python",
   "name": "python",
   "nbconvert_exporter": "python",
   "pygments_lexer": "ipython2",
   "version": "2.7.6"
  }
 },
 "nbformat": 4,
 "nbformat_minor": 5
}
